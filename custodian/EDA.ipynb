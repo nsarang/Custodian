{
 "cells": [
  {
   "cell_type": "markdown",
   "metadata": {},
   "source": [
    "## Setup"
   ]
  },
  {
   "cell_type": "code",
   "execution_count": 1,
   "metadata": {},
   "outputs": [],
   "source": [
    "%load_ext autoreload\n",
    "%autoreload 2"
   ]
  },
  {
   "cell_type": "code",
   "execution_count": 8,
   "metadata": {},
   "outputs": [],
   "source": [
    "import pandas as pd\n",
    "from utils import BankofCanadaRates, Transaction, Asset, Holdings\n",
    "from IPython.display import display, HTML\n",
    "\n",
    "displayPandas = lambda df: display(HTML(df.to_html()))"
   ]
  },
  {
   "cell_type": "code",
   "execution_count": 34,
   "metadata": {},
   "outputs": [
    {
     "data": {
      "text/html": [
       "<table border=\"1\" class=\"dataframe\">\n",
       "  <thead>\n",
       "    <tr style=\"text-align: right;\">\n",
       "      <th></th>\n",
       "      <th>date</th>\n",
       "      <th>description</th>\n",
       "      <th>base_currency</th>\n",
       "      <th>quote_currency</th>\n",
       "      <th>quantity</th>\n",
       "      <th>price</th>\n",
       "      <th>fees</th>\n",
       "      <th>note</th>\n",
       "    </tr>\n",
       "    <tr>\n",
       "      <th>id</th>\n",
       "      <th></th>\n",
       "      <th></th>\n",
       "      <th></th>\n",
       "      <th></th>\n",
       "      <th></th>\n",
       "      <th></th>\n",
       "      <th></th>\n",
       "      <th></th>\n",
       "    </tr>\n",
       "  </thead>\n",
       "  <tbody>\n",
       "    <tr>\n",
       "      <th>14</th>\n",
       "      <td>2023-11-10</td>\n",
       "      <td></td>\n",
       "      <td>EXPE</td>\n",
       "      <td>USD</td>\n",
       "      <td>-89.0</td>\n",
       "      <td>118.685</td>\n",
       "      <td>0.0</td>\n",
       "      <td></td>\n",
       "    </tr>\n",
       "    <tr>\n",
       "      <th>15</th>\n",
       "      <td>2023-11-15</td>\n",
       "      <td>RSU Vest</td>\n",
       "      <td>EXPE</td>\n",
       "      <td>USD</td>\n",
       "      <td>10.0</td>\n",
       "      <td>129.820</td>\n",
       "      <td>0.0</td>\n",
       "      <td></td>\n",
       "    </tr>\n",
       "    <tr>\n",
       "      <th>16</th>\n",
       "      <td>2023-11-15</td>\n",
       "      <td>RSU Vest</td>\n",
       "      <td>EXPE</td>\n",
       "      <td>USD</td>\n",
       "      <td>9.0</td>\n",
       "      <td>129.820</td>\n",
       "      <td>0.0</td>\n",
       "      <td></td>\n",
       "    </tr>\n",
       "    <tr>\n",
       "      <th>23</th>\n",
       "      <td>2024-01-17</td>\n",
       "      <td>RDI</td>\n",
       "      <td>DLR</td>\n",
       "      <td>USD</td>\n",
       "      <td>1041.0</td>\n",
       "      <td>10.100</td>\n",
       "      <td>0.0</td>\n",
       "      <td></td>\n",
       "    </tr>\n",
       "    <tr>\n",
       "      <th>24</th>\n",
       "      <td>2024-01-17</td>\n",
       "      <td>RDI</td>\n",
       "      <td>DLR</td>\n",
       "      <td>CAD</td>\n",
       "      <td>-1041.0</td>\n",
       "      <td>13.630</td>\n",
       "      <td>0.0</td>\n",
       "      <td></td>\n",
       "    </tr>\n",
       "  </tbody>\n",
       "</table>"
      ],
      "text/plain": [
       "<IPython.core.display.HTML object>"
      ]
     },
     "metadata": {},
     "output_type": "display_data"
    }
   ],
   "source": [
    "transactions_filepath = \"transactions.csv\"\n",
    "\n",
    "trxs_log = pd.read_csv(transactions_filepath)\n",
    "trxs_log.columns = map(lambda x: x.lower().replace(\" \", \"_\"), trxs_log.columns)\n",
    "trxs_log.index.name = \"id\"\n",
    "trxs_log = trxs_log.sort_values([\"date\", \"id\"]).fillna({\"description\": \"\", \"fees\": 0, \"note\": \"\"})\n",
    "displayPandas(trxs_log.tail(5))\n",
    "\n",
    "assert trxs_log.isnull().sum().sum() == 0\n",
    "trxs = trxs_log.apply(lambda r: Transaction(**r), axis=1).tolist()"
   ]
  },
  {
   "cell_type": "markdown",
   "metadata": {},
   "source": [
    "## Process"
   ]
  },
  {
   "cell_type": "code",
   "execution_count": 7,
   "metadata": {},
   "outputs": [],
   "source": [
    "import json\n",
    "from dataclasses import asdict\n",
    "\n",
    "holdings = Holdings()\n",
    "capgains = []\n",
    "boc = BankofCanadaRates(start_date=\"2018-01-01\")\n",
    "reporting_currency = \"CAD\"\n",
    "\n",
    "# artificial initial cash balance\n",
    "holdings.add(Asset(trxs_log[\"date\"].min(), reporting_currency, quantity=50000, acb=1))\n",
    "\n",
    "\n",
    "def process_transaction(trx: Transaction):\n",
    "    # reflect fees in the price\n",
    "    trx = trx.with_effective_price()\n",
    "\n",
    "    if trx.quote_to_reporting_rate is None:\n",
    "        try:\n",
    "            if trx.quote_currency == reporting_currency:\n",
    "                trx.quote_to_reporting_rate = 1\n",
    "            else:\n",
    "                # retrieve the exchange rate from Bank of Canada\n",
    "                trx.quote_to_reporting_rate = boc.get_rate(\n",
    "                    trx.quote_currency, reporting_currency, trx.date\n",
    "                )\n",
    "        except:\n",
    "            raise Exception(\n",
    "                f\"Error getting rate for {trx.date} {trx.quote_currency} to {reporting_currency}\"\n",
    "            )\n",
    "\n",
    "    # Vesting transactions are fundeed by the company, so we need to add \n",
    "    # a preceeding funding transaction\n",
    "    if \"Vest\" in trx.description:\n",
    "        process_transaction(\n",
    "            Transaction(\n",
    "                date=trx.date,\n",
    "                description=trx.description.replace(\"Vest\", \"Funding\"),\n",
    "                base_currency=trx.quote_currency,\n",
    "                quote_currency=reporting_currency,\n",
    "                quantity=trx.cost,\n",
    "                price=trx.quote_to_reporting_rate,\n",
    "                fees=0,\n",
    "                quote_to_reporting_rate=1,\n",
    "            )\n",
    "        )\n",
    "    \n",
    "    # Flip the transaction if it is a sell order\n",
    "    if trx.quantity < 0:\n",
    "        trx = trx.flip()\n",
    "\n",
    "    # Get the current holdings\n",
    "    base_holding = holdings.get(trx.base_currency, trx.date)\n",
    "    quote_holding = holdings.get(trx.quote_currency, trx.date)\n",
    "    \n",
    "    # Update the ACB and quantity for the base currency\n",
    "    if trx.base_currency != reporting_currency:\n",
    "        base_holding.acb = (\n",
    "            base_holding.quantity * base_holding.acb + trx.cost * quote_holding.acb\n",
    "        ) / (base_holding.quantity + trx.quantity)\n",
    "    base_holding.quantity += trx.quantity\n",
    "    base_holding.date = trx.date\n",
    "\n",
    "    # Calculate the capital gain for liquidating transactions\n",
    "    if trx.base_currency == reporting_currency:\n",
    "        cost_baes = quote_holding.acb * trx.cost\n",
    "        gross_proceeds = trx.quantity\n",
    "        capital_gain = gross_proceeds - cost_baes\n",
    "        capgains.append(\n",
    "            {\n",
    "                \"Date\": trx.date,\n",
    "                \"Gross Proceeds\": gross_proceeds,\n",
    "                \"Cost Base\": cost_baes,\n",
    "                \"Capital Gain\": capital_gain,\n",
    "            }\n",
    "        )\n",
    "\n",
    "    # Update the quantity for the quote currency\n",
    "    if quote_holding.quantity < trx.cost:\n",
    "        raise Exception(\n",
    "            f\"Insufficient funds to complete transaction on {trx.date}. Details:\\n\"\n",
    "            f\"Transaction: {json.dumps(asdict(trx), indent=4)}\\n\"\n",
    "            f\"Current holdings:\\n\"\n",
    "            f\"{holdings.current}\"\n",
    "        )\n",
    "    quote_holding.quantity -= trx.cost\n",
    "    quote_holding.date = trx.date\n",
    "\n",
    "    holdings.add(base_holding, overwrite=True)\n",
    "    holdings.add(quote_holding, overwrite=True)\n",
    "\n",
    "\n",
    "for trx in trxs:\n",
    "    process_transaction(trx)"
   ]
  },
  {
   "cell_type": "markdown",
   "metadata": {},
   "source": [
    "## Status"
   ]
  },
  {
   "cell_type": "code",
   "execution_count": 28,
   "metadata": {},
   "outputs": [
    {
     "name": "stdout",
     "output_type": "stream",
     "text": [
      "Capital Gains\n"
     ]
    },
    {
     "data": {
      "text/html": [
       "<table border=\"1\" class=\"dataframe\">\n",
       "  <thead>\n",
       "    <tr style=\"text-align: right;\">\n",
       "      <th></th>\n",
       "      <th>Date</th>\n",
       "      <th>Gross Proceeds</th>\n",
       "      <th>Cost Base</th>\n",
       "      <th>Capital Gain</th>\n",
       "    </tr>\n",
       "  </thead>\n",
       "  <tbody>\n",
       "    <tr>\n",
       "      <th>0</th>\n",
       "      <td>2022-11-25</td>\n",
       "      <td>6556.297216</td>\n",
       "      <td>6729.220750</td>\n",
       "      <td>-172.923534</td>\n",
       "    </tr>\n",
       "    <tr>\n",
       "      <th>1</th>\n",
       "      <td>2023-02-28</td>\n",
       "      <td>6458.850000</td>\n",
       "      <td>6334.371282</td>\n",
       "      <td>124.478718</td>\n",
       "    </tr>\n",
       "    <tr>\n",
       "      <th>2</th>\n",
       "      <td>2023-02-28</td>\n",
       "      <td>13.880000</td>\n",
       "      <td>13.622304</td>\n",
       "      <td>0.257696</td>\n",
       "    </tr>\n",
       "    <tr>\n",
       "      <th>3</th>\n",
       "      <td>2023-10-19</td>\n",
       "      <td>18554.536000</td>\n",
       "      <td>17705.509986</td>\n",
       "      <td>849.026014</td>\n",
       "    </tr>\n",
       "    <tr>\n",
       "      <th>4</th>\n",
       "      <td>2024-01-17</td>\n",
       "      <td>14188.830000</td>\n",
       "      <td>12533.464954</td>\n",
       "      <td>1655.365046</td>\n",
       "    </tr>\n",
       "  </tbody>\n",
       "</table>"
      ],
      "text/plain": [
       "<IPython.core.display.HTML object>"
      ]
     },
     "metadata": {},
     "output_type": "display_data"
    },
    {
     "name": "stdout",
     "output_type": "stream",
     "text": [
      "Capital Gains: 2023\n"
     ]
    },
    {
     "data": {
      "text/html": [
       "<table border=\"1\" class=\"dataframe\">\n",
       "  <thead>\n",
       "    <tr style=\"text-align: right;\">\n",
       "      <th></th>\n",
       "      <th>Gross Proceeds</th>\n",
       "      <th>Cost Base</th>\n",
       "      <th>Capital Gain</th>\n",
       "    </tr>\n",
       "  </thead>\n",
       "  <tbody>\n",
       "    <tr>\n",
       "      <th>0</th>\n",
       "      <td>25027.266</td>\n",
       "      <td>24053.503571</td>\n",
       "      <td>973.762429</td>\n",
       "    </tr>\n",
       "  </tbody>\n",
       "</table>"
      ],
      "text/plain": [
       "<IPython.core.display.HTML object>"
      ]
     },
     "metadata": {},
     "output_type": "display_data"
    },
    {
     "name": "stdout",
     "output_type": "stream",
     "text": [
      "Holdings\n"
     ]
    },
    {
     "data": {
      "text/html": [
       "<table border=\"1\" class=\"dataframe\">\n",
       "  <thead>\n",
       "    <tr style=\"text-align: right;\">\n",
       "      <th></th>\n",
       "      <th>date</th>\n",
       "      <th>asset</th>\n",
       "      <th>quantity</th>\n",
       "      <th>acb</th>\n",
       "    </tr>\n",
       "  </thead>\n",
       "  <tbody>\n",
       "    <tr>\n",
       "      <th>40</th>\n",
       "      <td>2023-11-15</td>\n",
       "      <td>EXPE</td>\n",
       "      <td>99.000000</td>\n",
       "      <td>139.601397</td>\n",
       "    </tr>\n",
       "    <tr>\n",
       "      <th>43</th>\n",
       "      <td>2024-01-17</td>\n",
       "      <td>DLR</td>\n",
       "      <td>0.000000</td>\n",
       "      <td>12.039832</td>\n",
       "    </tr>\n",
       "    <tr>\n",
       "      <th>42</th>\n",
       "      <td>2024-01-17</td>\n",
       "      <td>CAD</td>\n",
       "      <td>38560.755239</td>\n",
       "      <td>1.000000</td>\n",
       "    </tr>\n",
       "    <tr>\n",
       "      <th>44</th>\n",
       "      <td>2024-01-17</td>\n",
       "      <td>USD</td>\n",
       "      <td>62.841000</td>\n",
       "      <td>1.192063</td>\n",
       "    </tr>\n",
       "  </tbody>\n",
       "</table>"
      ],
      "text/plain": [
       "<IPython.core.display.HTML object>"
      ]
     },
     "metadata": {},
     "output_type": "display_data"
    }
   ],
   "source": [
    "print(\"Capital Gains\")\n",
    "displayPandas(pd.DataFrame(capgains))\n",
    "\n",
    "print(\"Capital Gains: 2023\")\n",
    "displayPandas(\n",
    "    pd.DataFrame(capgains)\n",
    "    .query(\"'2023-01-01' <= Date <= '2023-12-31'\")\n",
    "    .drop(columns=\"Date\")\n",
    "    .sum()\n",
    "    .to_frame()\n",
    "    .T\n",
    ")\n",
    "\n",
    "print(\"Holdings\")\n",
    "displayPandas(holdings.current)"
   ]
  },
  {
   "cell_type": "markdown",
   "metadata": {},
   "source": [
    "## Holdings Time Series"
   ]
  },
  {
   "cell_type": "code",
   "execution_count": 7,
   "metadata": {},
   "outputs": [
    {
     "data": {
      "application/vnd.plotly.v1+json": {
       "config": {
        "plotlyServerURL": "https://plot.ly"
       },
       "data": [
        {
         "hovertemplate": "asset=CAD<br>date=%{x}<br>quantity=%{y}<extra></extra>",
         "legendgroup": "CAD",
         "line": {
          "color": "#636efa",
          "dash": "solid"
         },
         "marker": {
          "symbol": "circle"
         },
         "mode": "lines+markers",
         "name": "CAD",
         "orientation": "v",
         "showlegend": true,
         "type": "scatter",
         "x": [
          "2022-08-31",
          "2022-11-25",
          "2022-11-30",
          "2023-02-28",
          "2023-05-15",
          "2023-05-31",
          "2023-06-12",
          "2023-08-15",
          "2023-08-31",
          "2023-10-19",
          "2023-11-15",
          "2024-01-17"
         ],
         "xaxis": "x",
         "y": [
          43270.77925,
          49827.076466,
          43621.33917,
          42827.50279299999,
          37157.36568799999,
          30777.844350999992,
          19684.064350999994,
          16816.88785699999,
          9190.437388999992,
          27744.97338899999,
          24371.925238999993,
          38560.75523899999
         ],
         "yaxis": "y"
        },
        {
         "hovertemplate": "asset=EXPE<br>date=%{x}<br>quantity=%{y}<extra></extra>",
         "legendgroup": "EXPE",
         "line": {
          "color": "#EF553B",
          "dash": "solid"
         },
         "marker": {
          "symbol": "circle"
         },
         "mode": "lines+markers",
         "name": "EXPE",
         "orientation": "v",
         "showlegend": true,
         "type": "scatter",
         "x": [
          "2022-08-31",
          "2022-11-18",
          "2022-11-30",
          "2023-02-13",
          "2023-02-28",
          "2023-05-15",
          "2023-05-31",
          "2023-06-09",
          "2023-08-15",
          "2023-08-31",
          "2023-11-10",
          "2023-11-15"
         ],
         "xaxis": "x",
         "y": [
          50,
          0,
          43,
          7.105427357601002e-15,
          49.00000000000001,
          96,
          145,
          98,
          117,
          169,
          79.99999999999999,
          98.99999999999999
         ],
         "yaxis": "y"
        },
        {
         "hovertemplate": "asset=USD<br>date=%{x}<br>quantity=%{y}<extra></extra>",
         "legendgroup": "USD",
         "line": {
          "color": "#00cc96",
          "dash": "solid"
         },
         "marker": {
          "symbol": "circle"
         },
         "mode": "lines+markers",
         "name": "USD",
         "orientation": "v",
         "showlegend": true,
         "type": "scatter",
         "x": [
          "2022-08-31",
          "2022-11-18",
          "2022-11-25",
          "2022-11-30",
          "2023-02-13",
          "2023-02-22",
          "2023-02-28",
          "2023-05-15",
          "2023-05-31",
          "2023-06-09",
          "2023-06-12",
          "2023-08-15",
          "2023-08-31",
          "2023-10-19",
          "2023-11-10",
          "2023-11-15",
          "2024-01-17"
         ],
         "xaxis": "x",
         "y": [
          0,
          4954.88,
          0,
          0,
          4785.360000000001,
          4703.4400000000005,
          13.520000000001346,
          13.520000000001346,
          13.520000000001346,
          5271.736000000001,
          13571.736,
          13571.736,
          13571.736,
          13.976000000000568,
          10576.941,
          10576.940999999999,
          62.84099999999853
         ],
         "yaxis": "y"
        },
        {
         "hovertemplate": "asset=DLR<br>date=%{x}<br>quantity=%{y}<extra></extra>",
         "legendgroup": "DLR",
         "line": {
          "color": "#ab63fa",
          "dash": "solid"
         },
         "marker": {
          "symbol": "circle"
         },
         "mode": "lines+markers",
         "name": "DLR",
         "orientation": "v",
         "showlegend": true,
         "type": "scatter",
         "x": [
          "2023-02-22",
          "2023-02-28",
          "2023-10-19",
          "2024-01-17"
         ],
         "xaxis": "x",
         "y": [
          8,
          0,
          0,
          0
         ],
         "yaxis": "y"
        },
        {
         "hovertemplate": "asset=CAD<br>date=%{x}<br>acb=%{y}<extra></extra>",
         "legendgroup": "CAD",
         "line": {
          "color": "#636efa",
          "dash": "dashdot"
         },
         "marker": {
          "symbol": "circle"
         },
         "mode": "lines",
         "name": "CAD",
         "orientation": "v",
         "showlegend": true,
         "type": "scatter",
         "x": [
          "2022-08-31",
          "2022-11-25",
          "2022-11-30",
          "2023-02-28",
          "2023-05-15",
          "2023-05-31",
          "2023-06-12",
          "2023-08-15",
          "2023-08-31",
          "2023-10-19",
          "2023-11-15",
          "2024-01-17"
         ],
         "xaxis": "x",
         "y": [
          1,
          1,
          1,
          1,
          1,
          1,
          1,
          1,
          1,
          1,
          1,
          1
         ],
         "yaxis": "y2"
        },
        {
         "hovertemplate": "asset=EXPE<br>date=%{x}<br>acb=%{y}<extra></extra>",
         "legendgroup": "EXPE",
         "line": {
          "color": "#EF553B",
          "dash": "dashdot"
         },
         "marker": {
          "symbol": "circle"
         },
         "mode": "lines",
         "name": "EXPE",
         "orientation": "v",
         "showlegend": true,
         "type": "scatter",
         "x": [
          "2022-08-31",
          "2022-11-18",
          "2022-11-30",
          "2023-02-13",
          "2023-02-28",
          "2023-05-15",
          "2023-05-31",
          "2023-06-09",
          "2023-08-15",
          "2023-08-31",
          "2023-11-10",
          "2023-11-15"
         ],
         "xaxis": "x",
         "y": [
          134.58441499999998,
          134.58441499999998,
          144.31947200000002,
          144.31947200000002,
          145.02686696827135,
          133.08554982284159,
          132.10743258118305,
          132.10743258118305,
          133.99159393191573,
          136.3172414364036,
          136.3172414364036,
          139.6013969521877
         ],
         "yaxis": "y2"
        },
        {
         "hovertemplate": "asset=USD<br>date=%{x}<br>acb=%{y}<extra></extra>",
         "legendgroup": "USD",
         "line": {
          "color": "#00cc96",
          "dash": "dashdot"
         },
         "marker": {
          "symbol": "circle"
         },
         "mode": "lines",
         "name": "USD",
         "orientation": "v",
         "showlegend": true,
         "type": "scatter",
         "x": [
          "2022-08-31",
          "2022-11-18",
          "2022-11-25",
          "2022-11-30",
          "2023-02-13",
          "2023-02-22",
          "2023-02-28",
          "2023-05-15",
          "2023-05-31",
          "2023-06-09",
          "2023-06-12",
          "2023-08-15",
          "2023-08-31",
          "2023-10-19",
          "2023-11-10",
          "2023-11-15",
          "2024-01-17"
         ],
         "xaxis": "x",
         "y": [
          1.3111,
          1.3580996411618442,
          1.3580996411618442,
          1.3508,
          1.2968172292157745,
          1.2968172292157745,
          1.3308880147588453,
          1.3486989210092122,
          1.3602666518711386,
          1.1812883149780076,
          1.2762715201982193,
          1.2863430686664332,
          1.3059318047928898,
          1.3059318047928898,
          1.1487712932069594,
          1.192062559239899,
          1.192062559239899
         ],
         "yaxis": "y2"
        },
        {
         "hovertemplate": "asset=DLR<br>date=%{x}<br>acb=%{y}<extra></extra>",
         "legendgroup": "DLR",
         "line": {
          "color": "#ab63fa",
          "dash": "dashdot"
         },
         "marker": {
          "symbol": "circle"
         },
         "mode": "lines",
         "name": "DLR",
         "orientation": "v",
         "showlegend": true,
         "type": "scatter",
         "x": [
          "2023-02-22",
          "2023-02-28",
          "2023-10-19",
          "2024-01-17"
         ],
         "xaxis": "x",
         "y": [
          13.27940842716953,
          13.62230383174927,
          13.37274168107919,
          12.03983184832298
         ],
         "yaxis": "y2"
        }
       ],
       "layout": {
        "template": {
         "data": {
          "bar": [
           {
            "error_x": {
             "color": "#2a3f5f"
            },
            "error_y": {
             "color": "#2a3f5f"
            },
            "marker": {
             "line": {
              "color": "#E5ECF6",
              "width": 0.5
             },
             "pattern": {
              "fillmode": "overlay",
              "size": 10,
              "solidity": 0.2
             }
            },
            "type": "bar"
           }
          ],
          "barpolar": [
           {
            "marker": {
             "line": {
              "color": "#E5ECF6",
              "width": 0.5
             },
             "pattern": {
              "fillmode": "overlay",
              "size": 10,
              "solidity": 0.2
             }
            },
            "type": "barpolar"
           }
          ],
          "carpet": [
           {
            "aaxis": {
             "endlinecolor": "#2a3f5f",
             "gridcolor": "white",
             "linecolor": "white",
             "minorgridcolor": "white",
             "startlinecolor": "#2a3f5f"
            },
            "baxis": {
             "endlinecolor": "#2a3f5f",
             "gridcolor": "white",
             "linecolor": "white",
             "minorgridcolor": "white",
             "startlinecolor": "#2a3f5f"
            },
            "type": "carpet"
           }
          ],
          "choropleth": [
           {
            "colorbar": {
             "outlinewidth": 0,
             "ticks": ""
            },
            "type": "choropleth"
           }
          ],
          "contour": [
           {
            "colorbar": {
             "outlinewidth": 0,
             "ticks": ""
            },
            "colorscale": [
             [
              0,
              "#0d0887"
             ],
             [
              0.1111111111111111,
              "#46039f"
             ],
             [
              0.2222222222222222,
              "#7201a8"
             ],
             [
              0.3333333333333333,
              "#9c179e"
             ],
             [
              0.4444444444444444,
              "#bd3786"
             ],
             [
              0.5555555555555556,
              "#d8576b"
             ],
             [
              0.6666666666666666,
              "#ed7953"
             ],
             [
              0.7777777777777778,
              "#fb9f3a"
             ],
             [
              0.8888888888888888,
              "#fdca26"
             ],
             [
              1,
              "#f0f921"
             ]
            ],
            "type": "contour"
           }
          ],
          "contourcarpet": [
           {
            "colorbar": {
             "outlinewidth": 0,
             "ticks": ""
            },
            "type": "contourcarpet"
           }
          ],
          "heatmap": [
           {
            "colorbar": {
             "outlinewidth": 0,
             "ticks": ""
            },
            "colorscale": [
             [
              0,
              "#0d0887"
             ],
             [
              0.1111111111111111,
              "#46039f"
             ],
             [
              0.2222222222222222,
              "#7201a8"
             ],
             [
              0.3333333333333333,
              "#9c179e"
             ],
             [
              0.4444444444444444,
              "#bd3786"
             ],
             [
              0.5555555555555556,
              "#d8576b"
             ],
             [
              0.6666666666666666,
              "#ed7953"
             ],
             [
              0.7777777777777778,
              "#fb9f3a"
             ],
             [
              0.8888888888888888,
              "#fdca26"
             ],
             [
              1,
              "#f0f921"
             ]
            ],
            "type": "heatmap"
           }
          ],
          "heatmapgl": [
           {
            "colorbar": {
             "outlinewidth": 0,
             "ticks": ""
            },
            "colorscale": [
             [
              0,
              "#0d0887"
             ],
             [
              0.1111111111111111,
              "#46039f"
             ],
             [
              0.2222222222222222,
              "#7201a8"
             ],
             [
              0.3333333333333333,
              "#9c179e"
             ],
             [
              0.4444444444444444,
              "#bd3786"
             ],
             [
              0.5555555555555556,
              "#d8576b"
             ],
             [
              0.6666666666666666,
              "#ed7953"
             ],
             [
              0.7777777777777778,
              "#fb9f3a"
             ],
             [
              0.8888888888888888,
              "#fdca26"
             ],
             [
              1,
              "#f0f921"
             ]
            ],
            "type": "heatmapgl"
           }
          ],
          "histogram": [
           {
            "marker": {
             "pattern": {
              "fillmode": "overlay",
              "size": 10,
              "solidity": 0.2
             }
            },
            "type": "histogram"
           }
          ],
          "histogram2d": [
           {
            "colorbar": {
             "outlinewidth": 0,
             "ticks": ""
            },
            "colorscale": [
             [
              0,
              "#0d0887"
             ],
             [
              0.1111111111111111,
              "#46039f"
             ],
             [
              0.2222222222222222,
              "#7201a8"
             ],
             [
              0.3333333333333333,
              "#9c179e"
             ],
             [
              0.4444444444444444,
              "#bd3786"
             ],
             [
              0.5555555555555556,
              "#d8576b"
             ],
             [
              0.6666666666666666,
              "#ed7953"
             ],
             [
              0.7777777777777778,
              "#fb9f3a"
             ],
             [
              0.8888888888888888,
              "#fdca26"
             ],
             [
              1,
              "#f0f921"
             ]
            ],
            "type": "histogram2d"
           }
          ],
          "histogram2dcontour": [
           {
            "colorbar": {
             "outlinewidth": 0,
             "ticks": ""
            },
            "colorscale": [
             [
              0,
              "#0d0887"
             ],
             [
              0.1111111111111111,
              "#46039f"
             ],
             [
              0.2222222222222222,
              "#7201a8"
             ],
             [
              0.3333333333333333,
              "#9c179e"
             ],
             [
              0.4444444444444444,
              "#bd3786"
             ],
             [
              0.5555555555555556,
              "#d8576b"
             ],
             [
              0.6666666666666666,
              "#ed7953"
             ],
             [
              0.7777777777777778,
              "#fb9f3a"
             ],
             [
              0.8888888888888888,
              "#fdca26"
             ],
             [
              1,
              "#f0f921"
             ]
            ],
            "type": "histogram2dcontour"
           }
          ],
          "mesh3d": [
           {
            "colorbar": {
             "outlinewidth": 0,
             "ticks": ""
            },
            "type": "mesh3d"
           }
          ],
          "parcoords": [
           {
            "line": {
             "colorbar": {
              "outlinewidth": 0,
              "ticks": ""
             }
            },
            "type": "parcoords"
           }
          ],
          "pie": [
           {
            "automargin": true,
            "type": "pie"
           }
          ],
          "scatter": [
           {
            "fillpattern": {
             "fillmode": "overlay",
             "size": 10,
             "solidity": 0.2
            },
            "type": "scatter"
           }
          ],
          "scatter3d": [
           {
            "line": {
             "colorbar": {
              "outlinewidth": 0,
              "ticks": ""
             }
            },
            "marker": {
             "colorbar": {
              "outlinewidth": 0,
              "ticks": ""
             }
            },
            "type": "scatter3d"
           }
          ],
          "scattercarpet": [
           {
            "marker": {
             "colorbar": {
              "outlinewidth": 0,
              "ticks": ""
             }
            },
            "type": "scattercarpet"
           }
          ],
          "scattergeo": [
           {
            "marker": {
             "colorbar": {
              "outlinewidth": 0,
              "ticks": ""
             }
            },
            "type": "scattergeo"
           }
          ],
          "scattergl": [
           {
            "marker": {
             "colorbar": {
              "outlinewidth": 0,
              "ticks": ""
             }
            },
            "type": "scattergl"
           }
          ],
          "scattermapbox": [
           {
            "marker": {
             "colorbar": {
              "outlinewidth": 0,
              "ticks": ""
             }
            },
            "type": "scattermapbox"
           }
          ],
          "scatterpolar": [
           {
            "marker": {
             "colorbar": {
              "outlinewidth": 0,
              "ticks": ""
             }
            },
            "type": "scatterpolar"
           }
          ],
          "scatterpolargl": [
           {
            "marker": {
             "colorbar": {
              "outlinewidth": 0,
              "ticks": ""
             }
            },
            "type": "scatterpolargl"
           }
          ],
          "scatterternary": [
           {
            "marker": {
             "colorbar": {
              "outlinewidth": 0,
              "ticks": ""
             }
            },
            "type": "scatterternary"
           }
          ],
          "surface": [
           {
            "colorbar": {
             "outlinewidth": 0,
             "ticks": ""
            },
            "colorscale": [
             [
              0,
              "#0d0887"
             ],
             [
              0.1111111111111111,
              "#46039f"
             ],
             [
              0.2222222222222222,
              "#7201a8"
             ],
             [
              0.3333333333333333,
              "#9c179e"
             ],
             [
              0.4444444444444444,
              "#bd3786"
             ],
             [
              0.5555555555555556,
              "#d8576b"
             ],
             [
              0.6666666666666666,
              "#ed7953"
             ],
             [
              0.7777777777777778,
              "#fb9f3a"
             ],
             [
              0.8888888888888888,
              "#fdca26"
             ],
             [
              1,
              "#f0f921"
             ]
            ],
            "type": "surface"
           }
          ],
          "table": [
           {
            "cells": {
             "fill": {
              "color": "#EBF0F8"
             },
             "line": {
              "color": "white"
             }
            },
            "header": {
             "fill": {
              "color": "#C8D4E3"
             },
             "line": {
              "color": "white"
             }
            },
            "type": "table"
           }
          ]
         },
         "layout": {
          "annotationdefaults": {
           "arrowcolor": "#2a3f5f",
           "arrowhead": 0,
           "arrowwidth": 1
          },
          "autotypenumbers": "strict",
          "coloraxis": {
           "colorbar": {
            "outlinewidth": 0,
            "ticks": ""
           }
          },
          "colorscale": {
           "diverging": [
            [
             0,
             "#8e0152"
            ],
            [
             0.1,
             "#c51b7d"
            ],
            [
             0.2,
             "#de77ae"
            ],
            [
             0.3,
             "#f1b6da"
            ],
            [
             0.4,
             "#fde0ef"
            ],
            [
             0.5,
             "#f7f7f7"
            ],
            [
             0.6,
             "#e6f5d0"
            ],
            [
             0.7,
             "#b8e186"
            ],
            [
             0.8,
             "#7fbc41"
            ],
            [
             0.9,
             "#4d9221"
            ],
            [
             1,
             "#276419"
            ]
           ],
           "sequential": [
            [
             0,
             "#0d0887"
            ],
            [
             0.1111111111111111,
             "#46039f"
            ],
            [
             0.2222222222222222,
             "#7201a8"
            ],
            [
             0.3333333333333333,
             "#9c179e"
            ],
            [
             0.4444444444444444,
             "#bd3786"
            ],
            [
             0.5555555555555556,
             "#d8576b"
            ],
            [
             0.6666666666666666,
             "#ed7953"
            ],
            [
             0.7777777777777778,
             "#fb9f3a"
            ],
            [
             0.8888888888888888,
             "#fdca26"
            ],
            [
             1,
             "#f0f921"
            ]
           ],
           "sequentialminus": [
            [
             0,
             "#0d0887"
            ],
            [
             0.1111111111111111,
             "#46039f"
            ],
            [
             0.2222222222222222,
             "#7201a8"
            ],
            [
             0.3333333333333333,
             "#9c179e"
            ],
            [
             0.4444444444444444,
             "#bd3786"
            ],
            [
             0.5555555555555556,
             "#d8576b"
            ],
            [
             0.6666666666666666,
             "#ed7953"
            ],
            [
             0.7777777777777778,
             "#fb9f3a"
            ],
            [
             0.8888888888888888,
             "#fdca26"
            ],
            [
             1,
             "#f0f921"
            ]
           ]
          },
          "colorway": [
           "#636efa",
           "#EF553B",
           "#00cc96",
           "#ab63fa",
           "#FFA15A",
           "#19d3f3",
           "#FF6692",
           "#B6E880",
           "#FF97FF",
           "#FECB52"
          ],
          "font": {
           "color": "#2a3f5f"
          },
          "geo": {
           "bgcolor": "white",
           "lakecolor": "white",
           "landcolor": "#E5ECF6",
           "showlakes": true,
           "showland": true,
           "subunitcolor": "white"
          },
          "hoverlabel": {
           "align": "left"
          },
          "hovermode": "closest",
          "mapbox": {
           "style": "light"
          },
          "paper_bgcolor": "white",
          "plot_bgcolor": "#E5ECF6",
          "polar": {
           "angularaxis": {
            "gridcolor": "white",
            "linecolor": "white",
            "ticks": ""
           },
           "bgcolor": "#E5ECF6",
           "radialaxis": {
            "gridcolor": "white",
            "linecolor": "white",
            "ticks": ""
           }
          },
          "scene": {
           "xaxis": {
            "backgroundcolor": "#E5ECF6",
            "gridcolor": "white",
            "gridwidth": 2,
            "linecolor": "white",
            "showbackground": true,
            "ticks": "",
            "zerolinecolor": "white"
           },
           "yaxis": {
            "backgroundcolor": "#E5ECF6",
            "gridcolor": "white",
            "gridwidth": 2,
            "linecolor": "white",
            "showbackground": true,
            "ticks": "",
            "zerolinecolor": "white"
           },
           "zaxis": {
            "backgroundcolor": "#E5ECF6",
            "gridcolor": "white",
            "gridwidth": 2,
            "linecolor": "white",
            "showbackground": true,
            "ticks": "",
            "zerolinecolor": "white"
           }
          },
          "shapedefaults": {
           "line": {
            "color": "#2a3f5f"
           }
          },
          "ternary": {
           "aaxis": {
            "gridcolor": "white",
            "linecolor": "white",
            "ticks": ""
           },
           "baxis": {
            "gridcolor": "white",
            "linecolor": "white",
            "ticks": ""
           },
           "bgcolor": "#E5ECF6",
           "caxis": {
            "gridcolor": "white",
            "linecolor": "white",
            "ticks": ""
           }
          },
          "title": {
           "x": 0.05
          },
          "xaxis": {
           "automargin": true,
           "gridcolor": "white",
           "linecolor": "white",
           "ticks": "",
           "title": {
            "standoff": 15
           },
           "zerolinecolor": "white",
           "zerolinewidth": 2
          },
          "yaxis": {
           "automargin": true,
           "gridcolor": "white",
           "linecolor": "white",
           "ticks": "",
           "title": {
            "standoff": 15
           },
           "zerolinecolor": "white",
           "zerolinewidth": 2
          }
         }
        },
        "xaxis": {
         "anchor": "y",
         "domain": [
          0,
          0.94
         ],
         "title": {
          "text": "Date"
         }
        },
        "yaxis": {
         "anchor": "x",
         "domain": [
          0,
          1
         ],
         "title": {
          "text": "Quantity"
         }
        },
        "yaxis2": {
         "anchor": "x",
         "overlaying": "y",
         "side": "right",
         "title": {
          "text": "ACB (CAD) --"
         }
        }
       }
      }
     },
     "metadata": {},
     "output_type": "display_data"
    }
   ],
   "source": [
    "import plotly.express as px\n",
    "from plotly.subplots import make_subplots\n",
    "\n",
    "fig = px.line(holdings.df, x=\"date\", y=\"quantity\", color=\"asset\", markers=True)\n",
    "fig2 = px.line(holdings.df, x=\"date\", y=\"acb\", color=\"asset\")\n",
    "fig2.update_traces(yaxis=\"y2\", line=dict(dash=\"dashdot\"))\n",
    "\n",
    "subfig = make_subplots(specs=[[{\"secondary_y\": True}]])\n",
    "subfig.add_traces(fig.data + fig2.data)\n",
    "subfig.layout.xaxis.title=\"Date\"\n",
    "subfig.layout.yaxis2.title=\"ACB (CAD)\" + \" --\"\n",
    "subfig.layout.yaxis.title=\"Quantity\"\n",
    "subfig.show()"
   ]
  },
  {
   "cell_type": "code",
   "execution_count": null,
   "metadata": {},
   "outputs": [],
   "source": []
  }
 ],
 "metadata": {
  "kernelspec": {
   "display_name": "arclight",
   "language": "python",
   "name": "python3"
  },
  "language_info": {
   "codemirror_mode": {
    "name": "ipython",
    "version": 3
   },
   "file_extension": ".py",
   "mimetype": "text/x-python",
   "name": "python",
   "nbconvert_exporter": "python",
   "pygments_lexer": "ipython3",
   "version": "3.10.13"
  }
 },
 "nbformat": 4,
 "nbformat_minor": 2
}
